{
 "cells": [
  {
   "cell_type": "code",
   "execution_count": 12,
   "metadata": {},
   "outputs": [
    {
     "name": "stdout",
     "output_type": "stream",
     "text": [
      "Enter the actor name: tom holland\n",
      "['', '', '\\xa02021', '', 'The Daily Bugle', '(TV Series short)', '', 'Peter Parker', '', '- Episode #2.12', '(2021)', '... Peter Parker', '', '', '- Episode #2.11', '(2021)', '... Peter Parker', '', '']\n"
     ]
    }
   ],
   "source": [
    "#webscrapping segment\n",
    "import requests,bs4,webbrowser\n",
    "\n",
    "#imdb actor page \n",
    "actor = input('Enter the actor name: ')\n",
    "res = requests.get('https://www.imdb.com/find?q='+actor.replace('','+'))\n",
    "res.raise_for_status()\n",
    "soup = bs4.BeautifulSoup(res.text)\n",
    "soupelem = soup.select('.result_text a')\n",
    "#webbrowser.open('https://www.imdb.com/'+soupelem[0].get('href'))\n",
    "actorpage = requests.get('https://www.imdb.com'+soupelem[0].get('href'))\n",
    "actorpage.raise_for_status()\n",
    "\n",
    "#all the movies of the actor\n",
    "soup = bs4.BeautifulSoup(actorpage.text)\n",
    "soupelem = soup.select('#filmo-head-actor + .filmo-category-section .filmo-row')\n",
    "#print(soupelem[2].text.split('\\n'))\n",
    "\n",
    "\n",
    "for movies in soupelem:\n",
    "    movieYear = movies.select('.year_column')[0].text\n",
    "    movieTitle = movies.select('b a')[0].text\n",
    "    print(movieTitle+' in '+movieYear)\n",
    "\n"
   ]
  },
  {
   "cell_type": "code",
   "execution_count": 33,
   "metadata": {},
   "outputs": [],
   "source": [
    "#excel segment\n",
    "import openpyxl\n",
    "from openpyxl.cell import get_column_letter\n",
    "\n",
    "wb = openpyxl.Workbook()\n",
    "sheet = wb.get_active_sheet()\n",
    "sheet['A1'].value = 'Title'\n",
    "sheet['B1'].value = 'Year'\n",
    "\n",
    "for row in range(2,11):\n",
    "    for col in range(1,3):\n",
    "        colLet = get_column_letter(col)\n",
    "        sheet[colLet+str(row)]=colLet+str(row)\n",
    "\n",
    "wb.save('bleh.xlsx')"
   ]
  },
  {
   "cell_type": "code",
   "execution_count": 51,
   "metadata": {
    "scrolled": true
   },
   "outputs": [
    {
     "name": "stdout",
     "output_type": "stream",
     "text": [
      "Enter the actor name: tom holland\n",
      "success!\n"
     ]
    }
   ],
   "source": [
    "#ADP PROJECT\n",
    "import requests,bs4\n",
    "import openpyxl\n",
    "\n",
    "#imdb actor page \n",
    "actor = input('Enter the actor name: ')\n",
    "res = requests.get('https://www.imdb.com/find?q='+actor.replace('','+'))\n",
    "res.raise_for_status()\n",
    "soup = bs4.BeautifulSoup(res.text)\n",
    "soupelem = soup.select('.result_text a')\n",
    "actorpage = requests.get('https://www.imdb.com'+soupelem[0].get('href'))\n",
    "actorpage.raise_for_status()\n",
    "\n",
    "#all the movies of the actor\n",
    "soup = bs4.BeautifulSoup(actorpage.text)\n",
    "soupelem = soup.select('#filmo-head-actor + .filmo-category-section .filmo-row')\n",
    "\n",
    "# wb = openpyxl.Workbook()\n",
    "# sheet = wb.get_active_sheet()\n",
    "# sheet['A1'].value = 'Title'\n",
    "# sheet['B1'].value = 'Year'\n",
    "\n",
    "# for movies in soupelem:\n",
    "#     movieYear = movies.select('.year_column')[0].text\n",
    "#     movieTitle = movies.select('b a')[0].text\n",
    "#     print(movieTitle+' in '+movieYear)\n",
    "    \n",
    "\n",
    "wb = openpyxl.Workbook()\n",
    "sheet = wb.get_active_sheet()\n",
    "sheet['A1'].value = 'Title'\n",
    "sheet['B1'].value = 'Year'\n",
    "\n",
    "for row in range(2,len(soupelem)+2):\n",
    "    movie = soupelem[row-2]\n",
    "    sheet['A'+str(row)]=movie.select('b a')[0].text\n",
    "    sheet['B'+str(row)]=movie.select('.year_column')[0].text[:6]\n",
    "\n",
    "wb.save('actorMovies.xlsx')\n",
    "print('success!')"
   ]
  },
  {
   "cell_type": "code",
   "execution_count": null,
   "metadata": {},
   "outputs": [],
   "source": []
  }
 ],
 "metadata": {
  "kernelspec": {
   "display_name": "Python 3",
   "language": "python",
   "name": "python3"
  }
 },
 "nbformat": 4,
 "nbformat_minor": 4
}
